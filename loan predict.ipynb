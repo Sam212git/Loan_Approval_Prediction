{
 "cells": [
  {
   "cell_type": "code",
   "execution_count": 30,
   "id": "c9d340b0",
   "metadata": {},
   "outputs": [
    {
     "data": {
      "text/plain": [
       "array([[137,  10],\n",
       "       [  5, 148]], dtype=int64)"
      ]
     },
     "execution_count": 30,
     "metadata": {},
     "output_type": "execute_result"
    }
   ],
   "source": [
    "import numpy as np\n",
    "import pandas as pd\n",
    "from sklearn.model_selection import train_test_split\n",
    "from sklearn.tree import DecisionTreeClassifier\n",
    "from sklearn.metrics import accuracy_score\n",
    "from sklearn import tree\n",
    "from sklearn import metrics\n",
    "\n",
    "data = pd.read_csv('Decision_Tree_ Dataset.csv')\n",
    "\n",
    "\n",
    "X = data.iloc[:, :4]\n",
    "y = data.iloc[:, 5:]\n",
    "\n",
    "\n",
    "X_train, X_test, y_train, y_test = train_test_split(X, y, test_size = 0.3, random_state = 100)\n",
    "\n",
    "\n",
    "clf_entropy = DecisionTreeClassifier()\n",
    "clf_entropy.fit(X_train, y_train)\n",
    "\n",
    "y_pred = clf_entropy.predict(X_test)\n",
    "\n",
    "\"Accuracy is \", accuracy_score(y_test,y_pred)*100\n",
    "\n",
    "\n",
    "met = metrics.confusion_matrix(y_test, y_pred)\n",
    "met"
   ]
  }
 ],
 "metadata": {
  "kernelspec": {
   "display_name": "Python 3 (ipykernel)",
   "language": "python",
   "name": "python3"
  },
  "language_info": {
   "codemirror_mode": {
    "name": "ipython",
    "version": 3
   },
   "file_extension": ".py",
   "mimetype": "text/x-python",
   "name": "python",
   "nbconvert_exporter": "python",
   "pygments_lexer": "ipython3",
   "version": "3.11.4"
  }
 },
 "nbformat": 4,
 "nbformat_minor": 5
}
